{
 "cells": [
  {
   "cell_type": "markdown",
   "id": "5fc08d67",
   "metadata": {},
   "source": [
    "# Computational Drug Discovery"
   ]
  },
  {
   "cell_type": "code",
   "execution_count": 4,
   "id": "7d52effb",
   "metadata": {},
   "outputs": [
    {
     "name": "stdout",
     "output_type": "stream",
     "text": [
      "Collecting chembl_webresource_client\n",
      "  Using cached chembl-webresource-client-0.10.4.tar.gz (51 kB)\n",
      "Requirement already satisfied: urllib3 in c:\\users\\ayh17\\anaconda3\\envs\\my-rdkit-env\\lib\\site-packages (from chembl_webresource_client) (1.26.5)\n",
      "Requirement already satisfied: requests>=2.18.4 in c:\\users\\ayh17\\anaconda3\\envs\\my-rdkit-env\\lib\\site-packages (from chembl_webresource_client) (2.25.1)\n",
      "Collecting requests-cache>=0.6.0\n",
      "  Using cached requests_cache-0.6.4-py2.py3-none-any.whl (28 kB)\n",
      "Collecting easydict\n",
      "  Using cached easydict-1.9.tar.gz (6.4 kB)\n",
      "Requirement already satisfied: idna<3,>=2.5 in c:\\users\\ayh17\\anaconda3\\envs\\my-rdkit-env\\lib\\site-packages (from requests>=2.18.4->chembl_webresource_client) (2.10)\n",
      "Requirement already satisfied: certifi>=2017.4.17 in c:\\users\\ayh17\\anaconda3\\envs\\my-rdkit-env\\lib\\site-packages (from requests>=2.18.4->chembl_webresource_client) (2021.5.30)\n",
      "Requirement already satisfied: chardet<5,>=3.0.2 in c:\\users\\ayh17\\anaconda3\\envs\\my-rdkit-env\\lib\\site-packages (from requests>=2.18.4->chembl_webresource_client) (4.0.0)\n",
      "Collecting itsdangerous\n",
      "  Downloading itsdangerous-2.0.1-py3-none-any.whl (18 kB)\n",
      "Collecting url-normalize>=1.4\n",
      "  Using cached url_normalize-1.4.3-py2.py3-none-any.whl (6.8 kB)\n",
      "Requirement already satisfied: six in c:\\users\\ayh17\\anaconda3\\envs\\my-rdkit-env\\lib\\site-packages (from url-normalize>=1.4->requests-cache>=0.6.0->chembl_webresource_client) (1.16.0)\n",
      "Building wheels for collected packages: chembl-webresource-client, easydict\n",
      "  Building wheel for chembl-webresource-client (setup.py): started\n",
      "  Building wheel for chembl-webresource-client (setup.py): finished with status 'done'\n",
      "  Created wheel for chembl-webresource-client: filename=chembl_webresource_client-0.10.4-py3-none-any.whl size=55640 sha256=d67999eadee4236e8c359dae876223d25513cf0d21d51fb0fee96d9309be9400\n",
      "  Stored in directory: c:\\users\\ayh17\\appdata\\local\\pip\\cache\\wheels\\32\\20\\90\\5ecc1f7de2e378865d3bce835b6560759b3ef58622620cd030\n",
      "  Building wheel for easydict (setup.py): started\n",
      "  Building wheel for easydict (setup.py): finished with status 'done'\n",
      "  Created wheel for easydict: filename=easydict-1.9-py3-none-any.whl size=6350 sha256=a6ea679aec834f84c27ec9f989ae55dc5edbf8ff5b9cab1346e519c5d53bf517\n",
      "  Stored in directory: c:\\users\\ayh17\\appdata\\local\\pip\\cache\\wheels\\b2\\1c\\36\\fd8efc3fa029b1445d869f359ec13e8fbce7fc9e81505bca66\n",
      "Successfully built chembl-webresource-client easydict\n",
      "Installing collected packages: url-normalize, itsdangerous, requests-cache, easydict, chembl-webresource-client\n",
      "Successfully installed chembl-webresource-client-0.10.4 easydict-1.9 itsdangerous-2.0.1 requests-cache-0.6.4 url-normalize-1.4.3\n"
     ]
    }
   ],
   "source": [
    "! pip install chembl_webresource_client"
   ]
  },
  {
   "cell_type": "markdown",
   "id": "cad6038c",
   "metadata": {},
   "source": [
    "## Importing Libraries"
   ]
  },
  {
   "cell_type": "code",
   "execution_count": 46,
   "id": "ee287943",
   "metadata": {},
   "outputs": [],
   "source": [
    "import pandas as pd\n",
    "from chembl_webresource_client.new_client import new_client\n",
    "import numpy as np\n",
    "from rdkit import Chem\n",
    "from rdkit.Chem import Descriptors, Lipinski\n",
    "import matplotlib.pyplot as plt\n",
    "import seaborn as sb"
   ]
  },
  {
   "cell_type": "markdown",
   "id": "24267264",
   "metadata": {},
   "source": [
    "## Search for Target Protein"
   ]
  },
  {
   "cell_type": "code",
   "execution_count": 2,
   "id": "55f35d0a",
   "metadata": {},
   "outputs": [],
   "source": [
    "target = new_client.target\n",
    "target_query = target.search('coronavirus')\n",
    "targets = pd.DataFrame(target_query)"
   ]
  },
  {
   "cell_type": "code",
   "execution_count": 3,
   "id": "f6c68ed8",
   "metadata": {},
   "outputs": [
    {
     "data": {
      "text/html": [
       "<div>\n",
       "<style scoped>\n",
       "    .dataframe tbody tr th:only-of-type {\n",
       "        vertical-align: middle;\n",
       "    }\n",
       "\n",
       "    .dataframe tbody tr th {\n",
       "        vertical-align: top;\n",
       "    }\n",
       "\n",
       "    .dataframe thead th {\n",
       "        text-align: right;\n",
       "    }\n",
       "</style>\n",
       "<table border=\"1\" class=\"dataframe\">\n",
       "  <thead>\n",
       "    <tr style=\"text-align: right;\">\n",
       "      <th></th>\n",
       "      <th>cross_references</th>\n",
       "      <th>organism</th>\n",
       "      <th>pref_name</th>\n",
       "      <th>score</th>\n",
       "      <th>species_group_flag</th>\n",
       "      <th>target_chembl_id</th>\n",
       "      <th>target_components</th>\n",
       "      <th>target_type</th>\n",
       "      <th>tax_id</th>\n",
       "    </tr>\n",
       "  </thead>\n",
       "  <tbody>\n",
       "    <tr>\n",
       "      <th>0</th>\n",
       "      <td>[]</td>\n",
       "      <td>Coronavirus</td>\n",
       "      <td>Coronavirus</td>\n",
       "      <td>17.0</td>\n",
       "      <td>False</td>\n",
       "      <td>CHEMBL613732</td>\n",
       "      <td>[]</td>\n",
       "      <td>ORGANISM</td>\n",
       "      <td>11119</td>\n",
       "    </tr>\n",
       "    <tr>\n",
       "      <th>1</th>\n",
       "      <td>[]</td>\n",
       "      <td>SARS coronavirus</td>\n",
       "      <td>SARS coronavirus</td>\n",
       "      <td>15.0</td>\n",
       "      <td>False</td>\n",
       "      <td>CHEMBL612575</td>\n",
       "      <td>[]</td>\n",
       "      <td>ORGANISM</td>\n",
       "      <td>227859</td>\n",
       "    </tr>\n",
       "    <tr>\n",
       "      <th>2</th>\n",
       "      <td>[]</td>\n",
       "      <td>Feline coronavirus</td>\n",
       "      <td>Feline coronavirus</td>\n",
       "      <td>15.0</td>\n",
       "      <td>False</td>\n",
       "      <td>CHEMBL612744</td>\n",
       "      <td>[]</td>\n",
       "      <td>ORGANISM</td>\n",
       "      <td>12663</td>\n",
       "    </tr>\n",
       "    <tr>\n",
       "      <th>3</th>\n",
       "      <td>[]</td>\n",
       "      <td>Human coronavirus 229E</td>\n",
       "      <td>Human coronavirus 229E</td>\n",
       "      <td>13.0</td>\n",
       "      <td>False</td>\n",
       "      <td>CHEMBL613837</td>\n",
       "      <td>[]</td>\n",
       "      <td>ORGANISM</td>\n",
       "      <td>11137</td>\n",
       "    </tr>\n",
       "    <tr>\n",
       "      <th>4</th>\n",
       "      <td>[{'xref_id': 'P0C6U8', 'xref_name': None, 'xre...</td>\n",
       "      <td>SARS coronavirus</td>\n",
       "      <td>SARS coronavirus 3C-like proteinase</td>\n",
       "      <td>10.0</td>\n",
       "      <td>False</td>\n",
       "      <td>CHEMBL3927</td>\n",
       "      <td>[{'accession': 'P0C6U8', 'component_descriptio...</td>\n",
       "      <td>SINGLE PROTEIN</td>\n",
       "      <td>227859</td>\n",
       "    </tr>\n",
       "    <tr>\n",
       "      <th>5</th>\n",
       "      <td>[]</td>\n",
       "      <td>Middle East respiratory syndrome-related coron...</td>\n",
       "      <td>Middle East respiratory syndrome-related coron...</td>\n",
       "      <td>9.0</td>\n",
       "      <td>False</td>\n",
       "      <td>CHEMBL4296578</td>\n",
       "      <td>[]</td>\n",
       "      <td>ORGANISM</td>\n",
       "      <td>1335626</td>\n",
       "    </tr>\n",
       "    <tr>\n",
       "      <th>6</th>\n",
       "      <td>[{'xref_id': 'P0C6X7', 'xref_name': None, 'xre...</td>\n",
       "      <td>SARS coronavirus</td>\n",
       "      <td>Replicase polyprotein 1ab</td>\n",
       "      <td>4.0</td>\n",
       "      <td>False</td>\n",
       "      <td>CHEMBL5118</td>\n",
       "      <td>[{'accession': 'P0C6X7', 'component_descriptio...</td>\n",
       "      <td>SINGLE PROTEIN</td>\n",
       "      <td>227859</td>\n",
       "    </tr>\n",
       "    <tr>\n",
       "      <th>7</th>\n",
       "      <td>[]</td>\n",
       "      <td>Severe acute respiratory syndrome coronavirus 2</td>\n",
       "      <td>Replicase polyprotein 1ab</td>\n",
       "      <td>4.0</td>\n",
       "      <td>False</td>\n",
       "      <td>CHEMBL4523582</td>\n",
       "      <td>[{'accession': 'P0DTD1', 'component_descriptio...</td>\n",
       "      <td>SINGLE PROTEIN</td>\n",
       "      <td>2697049</td>\n",
       "    </tr>\n",
       "  </tbody>\n",
       "</table>\n",
       "</div>"
      ],
      "text/plain": [
       "                                    cross_references  \\\n",
       "0                                                 []   \n",
       "1                                                 []   \n",
       "2                                                 []   \n",
       "3                                                 []   \n",
       "4  [{'xref_id': 'P0C6U8', 'xref_name': None, 'xre...   \n",
       "5                                                 []   \n",
       "6  [{'xref_id': 'P0C6X7', 'xref_name': None, 'xre...   \n",
       "7                                                 []   \n",
       "\n",
       "                                            organism  \\\n",
       "0                                        Coronavirus   \n",
       "1                                   SARS coronavirus   \n",
       "2                                 Feline coronavirus   \n",
       "3                             Human coronavirus 229E   \n",
       "4                                   SARS coronavirus   \n",
       "5  Middle East respiratory syndrome-related coron...   \n",
       "6                                   SARS coronavirus   \n",
       "7    Severe acute respiratory syndrome coronavirus 2   \n",
       "\n",
       "                                           pref_name  score  \\\n",
       "0                                        Coronavirus   17.0   \n",
       "1                                   SARS coronavirus   15.0   \n",
       "2                                 Feline coronavirus   15.0   \n",
       "3                             Human coronavirus 229E   13.0   \n",
       "4                SARS coronavirus 3C-like proteinase   10.0   \n",
       "5  Middle East respiratory syndrome-related coron...    9.0   \n",
       "6                          Replicase polyprotein 1ab    4.0   \n",
       "7                          Replicase polyprotein 1ab    4.0   \n",
       "\n",
       "   species_group_flag target_chembl_id  \\\n",
       "0               False     CHEMBL613732   \n",
       "1               False     CHEMBL612575   \n",
       "2               False     CHEMBL612744   \n",
       "3               False     CHEMBL613837   \n",
       "4               False       CHEMBL3927   \n",
       "5               False    CHEMBL4296578   \n",
       "6               False       CHEMBL5118   \n",
       "7               False    CHEMBL4523582   \n",
       "\n",
       "                                   target_components     target_type   tax_id  \n",
       "0                                                 []        ORGANISM    11119  \n",
       "1                                                 []        ORGANISM   227859  \n",
       "2                                                 []        ORGANISM    12663  \n",
       "3                                                 []        ORGANISM    11137  \n",
       "4  [{'accession': 'P0C6U8', 'component_descriptio...  SINGLE PROTEIN   227859  \n",
       "5                                                 []        ORGANISM  1335626  \n",
       "6  [{'accession': 'P0C6X7', 'component_descriptio...  SINGLE PROTEIN   227859  \n",
       "7  [{'accession': 'P0DTD1', 'component_descriptio...  SINGLE PROTEIN  2697049  "
      ]
     },
     "execution_count": 3,
     "metadata": {},
     "output_type": "execute_result"
    }
   ],
   "source": [
    "targets"
   ]
  },
  {
   "cell_type": "markdown",
   "id": "f78cffa5",
   "metadata": {},
   "source": [
    "## Select and retrieve bioactivity data for SARS coronavirus 3C-like proteinase"
   ]
  },
  {
   "cell_type": "code",
   "execution_count": 4,
   "id": "b2496367",
   "metadata": {},
   "outputs": [
    {
     "data": {
      "text/plain": [
       "'CHEMBL3927'"
      ]
     },
     "execution_count": 4,
     "metadata": {},
     "output_type": "execute_result"
    }
   ],
   "source": [
    "selected_target = targets.target_chembl_id[4]\n",
    "selected_target"
   ]
  },
  {
   "cell_type": "code",
   "execution_count": 5,
   "id": "f5d6ed3c",
   "metadata": {},
   "outputs": [],
   "source": [
    "activity = new_client.activity\n",
    "res = activity.filter(target_chembl_id=selected_target).filter(standard_type=\"IC50\")"
   ]
  },
  {
   "cell_type": "markdown",
   "id": "4b24519d",
   "metadata": {},
   "source": [
    "IC50 is a quantitative measure that indicates how much of a particular inhibitory substance (e.g. drug) is needed to inhibit, in vitro, a given biological process or biological component by 50%."
   ]
  },
  {
   "cell_type": "code",
   "execution_count": 6,
   "id": "8a089e0f",
   "metadata": {},
   "outputs": [],
   "source": [
    "df = pd.DataFrame(res)"
   ]
  },
  {
   "cell_type": "code",
   "execution_count": 7,
   "id": "1e2bfbc2",
   "metadata": {},
   "outputs": [
    {
     "data": {
      "text/html": [
       "<div>\n",
       "<style scoped>\n",
       "    .dataframe tbody tr th:only-of-type {\n",
       "        vertical-align: middle;\n",
       "    }\n",
       "\n",
       "    .dataframe tbody tr th {\n",
       "        vertical-align: top;\n",
       "    }\n",
       "\n",
       "    .dataframe thead th {\n",
       "        text-align: right;\n",
       "    }\n",
       "</style>\n",
       "<table border=\"1\" class=\"dataframe\">\n",
       "  <thead>\n",
       "    <tr style=\"text-align: right;\">\n",
       "      <th></th>\n",
       "      <th>activity_comment</th>\n",
       "      <th>activity_id</th>\n",
       "      <th>activity_properties</th>\n",
       "      <th>assay_chembl_id</th>\n",
       "      <th>assay_description</th>\n",
       "      <th>assay_type</th>\n",
       "      <th>assay_variant_accession</th>\n",
       "      <th>assay_variant_mutation</th>\n",
       "      <th>bao_endpoint</th>\n",
       "      <th>bao_format</th>\n",
       "      <th>...</th>\n",
       "      <th>target_organism</th>\n",
       "      <th>target_pref_name</th>\n",
       "      <th>target_tax_id</th>\n",
       "      <th>text_value</th>\n",
       "      <th>toid</th>\n",
       "      <th>type</th>\n",
       "      <th>units</th>\n",
       "      <th>uo_units</th>\n",
       "      <th>upper_value</th>\n",
       "      <th>value</th>\n",
       "    </tr>\n",
       "  </thead>\n",
       "  <tbody>\n",
       "    <tr>\n",
       "      <th>0</th>\n",
       "      <td>None</td>\n",
       "      <td>1480935</td>\n",
       "      <td>[]</td>\n",
       "      <td>CHEMBL829584</td>\n",
       "      <td>In vitro inhibitory concentration against SARS...</td>\n",
       "      <td>B</td>\n",
       "      <td>None</td>\n",
       "      <td>None</td>\n",
       "      <td>BAO_0000190</td>\n",
       "      <td>BAO_0000357</td>\n",
       "      <td>...</td>\n",
       "      <td>SARS coronavirus</td>\n",
       "      <td>SARS coronavirus 3C-like proteinase</td>\n",
       "      <td>227859</td>\n",
       "      <td>None</td>\n",
       "      <td>None</td>\n",
       "      <td>IC50</td>\n",
       "      <td>uM</td>\n",
       "      <td>UO_0000065</td>\n",
       "      <td>None</td>\n",
       "      <td>7.2</td>\n",
       "    </tr>\n",
       "    <tr>\n",
       "      <th>1</th>\n",
       "      <td>None</td>\n",
       "      <td>1480936</td>\n",
       "      <td>[]</td>\n",
       "      <td>CHEMBL829584</td>\n",
       "      <td>In vitro inhibitory concentration against SARS...</td>\n",
       "      <td>B</td>\n",
       "      <td>None</td>\n",
       "      <td>None</td>\n",
       "      <td>BAO_0000190</td>\n",
       "      <td>BAO_0000357</td>\n",
       "      <td>...</td>\n",
       "      <td>SARS coronavirus</td>\n",
       "      <td>SARS coronavirus 3C-like proteinase</td>\n",
       "      <td>227859</td>\n",
       "      <td>None</td>\n",
       "      <td>None</td>\n",
       "      <td>IC50</td>\n",
       "      <td>uM</td>\n",
       "      <td>UO_0000065</td>\n",
       "      <td>None</td>\n",
       "      <td>9.4</td>\n",
       "    </tr>\n",
       "    <tr>\n",
       "      <th>2</th>\n",
       "      <td>None</td>\n",
       "      <td>1481061</td>\n",
       "      <td>[]</td>\n",
       "      <td>CHEMBL830868</td>\n",
       "      <td>In vitro inhibitory concentration against SARS...</td>\n",
       "      <td>B</td>\n",
       "      <td>None</td>\n",
       "      <td>None</td>\n",
       "      <td>BAO_0000190</td>\n",
       "      <td>BAO_0000357</td>\n",
       "      <td>...</td>\n",
       "      <td>SARS coronavirus</td>\n",
       "      <td>SARS coronavirus 3C-like proteinase</td>\n",
       "      <td>227859</td>\n",
       "      <td>None</td>\n",
       "      <td>None</td>\n",
       "      <td>IC50</td>\n",
       "      <td>uM</td>\n",
       "      <td>UO_0000065</td>\n",
       "      <td>None</td>\n",
       "      <td>13.5</td>\n",
       "    </tr>\n",
       "    <tr>\n",
       "      <th>3</th>\n",
       "      <td>None</td>\n",
       "      <td>1481065</td>\n",
       "      <td>[]</td>\n",
       "      <td>CHEMBL829584</td>\n",
       "      <td>In vitro inhibitory concentration against SARS...</td>\n",
       "      <td>B</td>\n",
       "      <td>None</td>\n",
       "      <td>None</td>\n",
       "      <td>BAO_0000190</td>\n",
       "      <td>BAO_0000357</td>\n",
       "      <td>...</td>\n",
       "      <td>SARS coronavirus</td>\n",
       "      <td>SARS coronavirus 3C-like proteinase</td>\n",
       "      <td>227859</td>\n",
       "      <td>None</td>\n",
       "      <td>None</td>\n",
       "      <td>IC50</td>\n",
       "      <td>uM</td>\n",
       "      <td>UO_0000065</td>\n",
       "      <td>None</td>\n",
       "      <td>13.11</td>\n",
       "    </tr>\n",
       "    <tr>\n",
       "      <th>4</th>\n",
       "      <td>None</td>\n",
       "      <td>1481066</td>\n",
       "      <td>[]</td>\n",
       "      <td>CHEMBL829584</td>\n",
       "      <td>In vitro inhibitory concentration against SARS...</td>\n",
       "      <td>B</td>\n",
       "      <td>None</td>\n",
       "      <td>None</td>\n",
       "      <td>BAO_0000190</td>\n",
       "      <td>BAO_0000357</td>\n",
       "      <td>...</td>\n",
       "      <td>SARS coronavirus</td>\n",
       "      <td>SARS coronavirus 3C-like proteinase</td>\n",
       "      <td>227859</td>\n",
       "      <td>None</td>\n",
       "      <td>None</td>\n",
       "      <td>IC50</td>\n",
       "      <td>uM</td>\n",
       "      <td>UO_0000065</td>\n",
       "      <td>None</td>\n",
       "      <td>2.0</td>\n",
       "    </tr>\n",
       "  </tbody>\n",
       "</table>\n",
       "<p>5 rows × 45 columns</p>\n",
       "</div>"
      ],
      "text/plain": [
       "  activity_comment  activity_id activity_properties assay_chembl_id  \\\n",
       "0             None      1480935                  []    CHEMBL829584   \n",
       "1             None      1480936                  []    CHEMBL829584   \n",
       "2             None      1481061                  []    CHEMBL830868   \n",
       "3             None      1481065                  []    CHEMBL829584   \n",
       "4             None      1481066                  []    CHEMBL829584   \n",
       "\n",
       "                                   assay_description assay_type  \\\n",
       "0  In vitro inhibitory concentration against SARS...          B   \n",
       "1  In vitro inhibitory concentration against SARS...          B   \n",
       "2  In vitro inhibitory concentration against SARS...          B   \n",
       "3  In vitro inhibitory concentration against SARS...          B   \n",
       "4  In vitro inhibitory concentration against SARS...          B   \n",
       "\n",
       "  assay_variant_accession assay_variant_mutation bao_endpoint   bao_format  \\\n",
       "0                    None                   None  BAO_0000190  BAO_0000357   \n",
       "1                    None                   None  BAO_0000190  BAO_0000357   \n",
       "2                    None                   None  BAO_0000190  BAO_0000357   \n",
       "3                    None                   None  BAO_0000190  BAO_0000357   \n",
       "4                    None                   None  BAO_0000190  BAO_0000357   \n",
       "\n",
       "   ...   target_organism                     target_pref_name target_tax_id  \\\n",
       "0  ...  SARS coronavirus  SARS coronavirus 3C-like proteinase        227859   \n",
       "1  ...  SARS coronavirus  SARS coronavirus 3C-like proteinase        227859   \n",
       "2  ...  SARS coronavirus  SARS coronavirus 3C-like proteinase        227859   \n",
       "3  ...  SARS coronavirus  SARS coronavirus 3C-like proteinase        227859   \n",
       "4  ...  SARS coronavirus  SARS coronavirus 3C-like proteinase        227859   \n",
       "\n",
       "  text_value  toid  type  units    uo_units upper_value  value  \n",
       "0       None  None  IC50     uM  UO_0000065        None    7.2  \n",
       "1       None  None  IC50     uM  UO_0000065        None    9.4  \n",
       "2       None  None  IC50     uM  UO_0000065        None   13.5  \n",
       "3       None  None  IC50     uM  UO_0000065        None  13.11  \n",
       "4       None  None  IC50     uM  UO_0000065        None    2.0  \n",
       "\n",
       "[5 rows x 45 columns]"
      ]
     },
     "execution_count": 7,
     "metadata": {},
     "output_type": "execute_result"
    }
   ],
   "source": [
    "df.head()"
   ]
  },
  {
   "cell_type": "code",
   "execution_count": 8,
   "id": "58ff8f06",
   "metadata": {},
   "outputs": [],
   "source": [
    "df.to_csv('bioactivity_data.csv', index = False)"
   ]
  },
  {
   "cell_type": "markdown",
   "id": "630229eb",
   "metadata": {},
   "source": [
    "## Data Preparation"
   ]
  },
  {
   "cell_type": "code",
   "execution_count": 9,
   "id": "5b6cc893",
   "metadata": {
    "scrolled": true
   },
   "outputs": [
    {
     "name": "stdout",
     "output_type": "stream",
     "text": [
      "<class 'pandas.core.frame.DataFrame'>\n",
      "RangeIndex: 133 entries, 0 to 132\n",
      "Data columns (total 45 columns):\n",
      " #   Column                     Non-Null Count  Dtype \n",
      "---  ------                     --------------  ----- \n",
      " 0   activity_comment           0 non-null      object\n",
      " 1   activity_id                133 non-null    int64 \n",
      " 2   activity_properties        133 non-null    object\n",
      " 3   assay_chembl_id            133 non-null    object\n",
      " 4   assay_description          133 non-null    object\n",
      " 5   assay_type                 133 non-null    object\n",
      " 6   assay_variant_accession    0 non-null      object\n",
      " 7   assay_variant_mutation     0 non-null      object\n",
      " 8   bao_endpoint               133 non-null    object\n",
      " 9   bao_format                 133 non-null    object\n",
      " 10  bao_label                  133 non-null    object\n",
      " 11  canonical_smiles           133 non-null    object\n",
      " 12  data_validity_comment      42 non-null     object\n",
      " 13  data_validity_description  42 non-null     object\n",
      " 14  document_chembl_id         133 non-null    object\n",
      " 15  document_journal           133 non-null    object\n",
      " 16  document_year              133 non-null    int64 \n",
      " 17  ligand_efficiency          91 non-null     object\n",
      " 18  molecule_chembl_id         133 non-null    object\n",
      " 19  molecule_pref_name         26 non-null     object\n",
      " 20  parent_molecule_chembl_id  133 non-null    object\n",
      " 21  pchembl_value              91 non-null     object\n",
      " 22  potential_duplicate        133 non-null    bool  \n",
      " 23  qudt_units                 133 non-null    object\n",
      " 24  record_id                  133 non-null    int64 \n",
      " 25  relation                   133 non-null    object\n",
      " 26  src_id                     133 non-null    int64 \n",
      " 27  standard_flag              133 non-null    bool  \n",
      " 28  standard_relation          133 non-null    object\n",
      " 29  standard_text_value        0 non-null      object\n",
      " 30  standard_type              133 non-null    object\n",
      " 31  standard_units             133 non-null    object\n",
      " 32  standard_upper_value       0 non-null      object\n",
      " 33  standard_value             133 non-null    object\n",
      " 34  target_chembl_id           133 non-null    object\n",
      " 35  target_organism            133 non-null    object\n",
      " 36  target_pref_name           133 non-null    object\n",
      " 37  target_tax_id              133 non-null    object\n",
      " 38  text_value                 0 non-null      object\n",
      " 39  toid                       0 non-null      object\n",
      " 40  type                       133 non-null    object\n",
      " 41  units                      105 non-null    object\n",
      " 42  uo_units                   133 non-null    object\n",
      " 43  upper_value                0 non-null      object\n",
      " 44  value                      133 non-null    object\n",
      "dtypes: bool(2), int64(4), object(39)\n",
      "memory usage: 45.1+ KB\n"
     ]
    }
   ],
   "source": [
    "df.info()"
   ]
  },
  {
   "cell_type": "code",
   "execution_count": 10,
   "id": "ec5909ca",
   "metadata": {},
   "outputs": [],
   "source": [
    "df['standard_value'] = df['standard_value'].astype(float)"
   ]
  },
  {
   "cell_type": "code",
   "execution_count": 11,
   "id": "87c71ec3",
   "metadata": {},
   "outputs": [],
   "source": [
    "bioactivity_class = []\n",
    "for i in df['standard_value']:\n",
    "    if i >= 10000:\n",
    "        bioactivity_class.append('inactive')\n",
    "    elif i <= 1000:\n",
    "        bioactivity_class.append('active')\n",
    "    else:\n",
    "        bioactivity_class.append('intermediate')"
   ]
  },
  {
   "cell_type": "code",
   "execution_count": 12,
   "id": "0718ae13",
   "metadata": {},
   "outputs": [],
   "source": [
    "df['bioactivity_class'] = bioactivity_class"
   ]
  },
  {
   "cell_type": "code",
   "execution_count": 13,
   "id": "ed12419e",
   "metadata": {},
   "outputs": [],
   "source": [
    "selections = ['molecule_chembl_id', 'canonical_smiles', 'standard_value', 'bioactivity_class']"
   ]
  },
  {
   "cell_type": "code",
   "execution_count": 14,
   "id": "e9adabfb",
   "metadata": {},
   "outputs": [],
   "source": [
    "df2 = df[selections]"
   ]
  },
  {
   "cell_type": "code",
   "execution_count": 15,
   "id": "2a383613",
   "metadata": {},
   "outputs": [
    {
     "name": "stdout",
     "output_type": "stream",
     "text": [
      "<class 'pandas.core.frame.DataFrame'>\n",
      "RangeIndex: 133 entries, 0 to 132\n",
      "Data columns (total 4 columns):\n",
      " #   Column              Non-Null Count  Dtype  \n",
      "---  ------              --------------  -----  \n",
      " 0   molecule_chembl_id  133 non-null    object \n",
      " 1   canonical_smiles    133 non-null    object \n",
      " 2   standard_value      133 non-null    float64\n",
      " 3   bioactivity_class   133 non-null    object \n",
      "dtypes: float64(1), object(3)\n",
      "memory usage: 4.3+ KB\n"
     ]
    }
   ],
   "source": [
    "df2.info()"
   ]
  },
  {
   "cell_type": "code",
   "execution_count": 16,
   "id": "bc88d287",
   "metadata": {},
   "outputs": [],
   "source": [
    "df2.to_csv('bioactivity_preprocessed_data.csv', index = False)"
   ]
  },
  {
   "cell_type": "code",
   "execution_count": 17,
   "id": "1e2be389",
   "metadata": {},
   "outputs": [],
   "source": [
    "df = pd.read_csv('bioactivity_preprocessed_data.csv')"
   ]
  },
  {
   "cell_type": "code",
   "execution_count": 18,
   "id": "b8993b1a",
   "metadata": {},
   "outputs": [
    {
     "data": {
      "text/html": [
       "<div>\n",
       "<style scoped>\n",
       "    .dataframe tbody tr th:only-of-type {\n",
       "        vertical-align: middle;\n",
       "    }\n",
       "\n",
       "    .dataframe tbody tr th {\n",
       "        vertical-align: top;\n",
       "    }\n",
       "\n",
       "    .dataframe thead th {\n",
       "        text-align: right;\n",
       "    }\n",
       "</style>\n",
       "<table border=\"1\" class=\"dataframe\">\n",
       "  <thead>\n",
       "    <tr style=\"text-align: right;\">\n",
       "      <th></th>\n",
       "      <th>molecule_chembl_id</th>\n",
       "      <th>canonical_smiles</th>\n",
       "      <th>standard_value</th>\n",
       "      <th>bioactivity_class</th>\n",
       "    </tr>\n",
       "  </thead>\n",
       "  <tbody>\n",
       "    <tr>\n",
       "      <th>0</th>\n",
       "      <td>CHEMBL187579</td>\n",
       "      <td>Cc1noc(C)c1CN1C(=O)C(=O)c2cc(C#N)ccc21</td>\n",
       "      <td>7200.0</td>\n",
       "      <td>intermediate</td>\n",
       "    </tr>\n",
       "  </tbody>\n",
       "</table>\n",
       "</div>"
      ],
      "text/plain": [
       "  molecule_chembl_id                        canonical_smiles  standard_value  \\\n",
       "0       CHEMBL187579  Cc1noc(C)c1CN1C(=O)C(=O)c2cc(C#N)ccc21          7200.0   \n",
       "\n",
       "  bioactivity_class  \n",
       "0      intermediate  "
      ]
     },
     "execution_count": 18,
     "metadata": {},
     "output_type": "execute_result"
    }
   ],
   "source": [
    "df.head(1)"
   ]
  },
  {
   "cell_type": "markdown",
   "id": "743a783b",
   "metadata": {},
   "source": [
    "### Calculate Lipinski descriptors"
   ]
  },
  {
   "cell_type": "code",
   "execution_count": 19,
   "id": "a96a1b98",
   "metadata": {},
   "outputs": [],
   "source": [
    "def lipinski(smiles, verbose=False):\n",
    "\n",
    "    moldata= []\n",
    "    for elem in smiles:\n",
    "        mol=Chem.MolFromSmiles(elem) \n",
    "        moldata.append(mol)\n",
    "       \n",
    "    baseData= np.arange(1,1)\n",
    "    i=0  \n",
    "    for mol in moldata:        \n",
    "       \n",
    "        desc_MolWt = Descriptors.MolWt(mol)\n",
    "        desc_MolLogP = Descriptors.MolLogP(mol)\n",
    "        desc_NumHDonors = Lipinski.NumHDonors(mol)\n",
    "        desc_NumHAcceptors = Lipinski.NumHAcceptors(mol)\n",
    "           \n",
    "        row = np.array([desc_MolWt,\n",
    "                        desc_MolLogP,\n",
    "                        desc_NumHDonors,\n",
    "                        desc_NumHAcceptors])   \n",
    "    \n",
    "        if(i==0):\n",
    "            baseData=row\n",
    "        else:\n",
    "            baseData=np.vstack([baseData, row])\n",
    "        i=i+1      \n",
    "    \n",
    "    columnNames=[\"MW\",\"LogP\",\"NumHDonors\",\"NumHAcceptors\"]   \n",
    "    descriptors = pd.DataFrame(data=baseData,columns=columnNames)\n",
    "    \n",
    "    return descriptors"
   ]
  },
  {
   "cell_type": "code",
   "execution_count": 20,
   "id": "ac2adf9d",
   "metadata": {},
   "outputs": [],
   "source": [
    "df_lipinski = lipinski(df['canonical_smiles'])"
   ]
  },
  {
   "cell_type": "code",
   "execution_count": 21,
   "id": "9e3fe524",
   "metadata": {},
   "outputs": [
    {
     "data": {
      "text/html": [
       "<div>\n",
       "<style scoped>\n",
       "    .dataframe tbody tr th:only-of-type {\n",
       "        vertical-align: middle;\n",
       "    }\n",
       "\n",
       "    .dataframe tbody tr th {\n",
       "        vertical-align: top;\n",
       "    }\n",
       "\n",
       "    .dataframe thead th {\n",
       "        text-align: right;\n",
       "    }\n",
       "</style>\n",
       "<table border=\"1\" class=\"dataframe\">\n",
       "  <thead>\n",
       "    <tr style=\"text-align: right;\">\n",
       "      <th></th>\n",
       "      <th>MW</th>\n",
       "      <th>LogP</th>\n",
       "      <th>NumHDonors</th>\n",
       "      <th>NumHAcceptors</th>\n",
       "    </tr>\n",
       "  </thead>\n",
       "  <tbody>\n",
       "    <tr>\n",
       "      <th>0</th>\n",
       "      <td>281.271</td>\n",
       "      <td>1.89262</td>\n",
       "      <td>0.0</td>\n",
       "      <td>5.0</td>\n",
       "    </tr>\n",
       "    <tr>\n",
       "      <th>1</th>\n",
       "      <td>415.589</td>\n",
       "      <td>3.81320</td>\n",
       "      <td>0.0</td>\n",
       "      <td>2.0</td>\n",
       "    </tr>\n",
       "    <tr>\n",
       "      <th>2</th>\n",
       "      <td>421.190</td>\n",
       "      <td>2.66050</td>\n",
       "      <td>0.0</td>\n",
       "      <td>4.0</td>\n",
       "    </tr>\n",
       "    <tr>\n",
       "      <th>3</th>\n",
       "      <td>293.347</td>\n",
       "      <td>3.63080</td>\n",
       "      <td>0.0</td>\n",
       "      <td>3.0</td>\n",
       "    </tr>\n",
       "    <tr>\n",
       "      <th>4</th>\n",
       "      <td>338.344</td>\n",
       "      <td>3.53900</td>\n",
       "      <td>0.0</td>\n",
       "      <td>5.0</td>\n",
       "    </tr>\n",
       "    <tr>\n",
       "      <th>...</th>\n",
       "      <td>...</td>\n",
       "      <td>...</td>\n",
       "      <td>...</td>\n",
       "      <td>...</td>\n",
       "    </tr>\n",
       "    <tr>\n",
       "      <th>128</th>\n",
       "      <td>338.359</td>\n",
       "      <td>3.40102</td>\n",
       "      <td>0.0</td>\n",
       "      <td>5.0</td>\n",
       "    </tr>\n",
       "    <tr>\n",
       "      <th>129</th>\n",
       "      <td>296.366</td>\n",
       "      <td>3.44330</td>\n",
       "      <td>0.0</td>\n",
       "      <td>3.0</td>\n",
       "    </tr>\n",
       "    <tr>\n",
       "      <th>130</th>\n",
       "      <td>276.291</td>\n",
       "      <td>4.09564</td>\n",
       "      <td>0.0</td>\n",
       "      <td>3.0</td>\n",
       "    </tr>\n",
       "    <tr>\n",
       "      <th>131</th>\n",
       "      <td>278.307</td>\n",
       "      <td>3.29102</td>\n",
       "      <td>0.0</td>\n",
       "      <td>3.0</td>\n",
       "    </tr>\n",
       "    <tr>\n",
       "      <th>132</th>\n",
       "      <td>282.383</td>\n",
       "      <td>4.10530</td>\n",
       "      <td>0.0</td>\n",
       "      <td>2.0</td>\n",
       "    </tr>\n",
       "  </tbody>\n",
       "</table>\n",
       "<p>133 rows × 4 columns</p>\n",
       "</div>"
      ],
      "text/plain": [
       "          MW     LogP  NumHDonors  NumHAcceptors\n",
       "0    281.271  1.89262         0.0            5.0\n",
       "1    415.589  3.81320         0.0            2.0\n",
       "2    421.190  2.66050         0.0            4.0\n",
       "3    293.347  3.63080         0.0            3.0\n",
       "4    338.344  3.53900         0.0            5.0\n",
       "..       ...      ...         ...            ...\n",
       "128  338.359  3.40102         0.0            5.0\n",
       "129  296.366  3.44330         0.0            3.0\n",
       "130  276.291  4.09564         0.0            3.0\n",
       "131  278.307  3.29102         0.0            3.0\n",
       "132  282.383  4.10530         0.0            2.0\n",
       "\n",
       "[133 rows x 4 columns]"
      ]
     },
     "execution_count": 21,
     "metadata": {},
     "output_type": "execute_result"
    }
   ],
   "source": [
    "df_lipinski"
   ]
  },
  {
   "cell_type": "code",
   "execution_count": 22,
   "id": "87873c2b",
   "metadata": {},
   "outputs": [],
   "source": [
    "df_combined = pd.concat([df, df_lipinski], axis = 1)"
   ]
  },
  {
   "cell_type": "code",
   "execution_count": 23,
   "id": "8d6729c6",
   "metadata": {},
   "outputs": [
    {
     "data": {
      "text/html": [
       "<div>\n",
       "<style scoped>\n",
       "    .dataframe tbody tr th:only-of-type {\n",
       "        vertical-align: middle;\n",
       "    }\n",
       "\n",
       "    .dataframe tbody tr th {\n",
       "        vertical-align: top;\n",
       "    }\n",
       "\n",
       "    .dataframe thead th {\n",
       "        text-align: right;\n",
       "    }\n",
       "</style>\n",
       "<table border=\"1\" class=\"dataframe\">\n",
       "  <thead>\n",
       "    <tr style=\"text-align: right;\">\n",
       "      <th></th>\n",
       "      <th>molecule_chembl_id</th>\n",
       "      <th>canonical_smiles</th>\n",
       "      <th>standard_value</th>\n",
       "      <th>bioactivity_class</th>\n",
       "      <th>MW</th>\n",
       "      <th>LogP</th>\n",
       "      <th>NumHDonors</th>\n",
       "      <th>NumHAcceptors</th>\n",
       "    </tr>\n",
       "  </thead>\n",
       "  <tbody>\n",
       "    <tr>\n",
       "      <th>0</th>\n",
       "      <td>CHEMBL187579</td>\n",
       "      <td>Cc1noc(C)c1CN1C(=O)C(=O)c2cc(C#N)ccc21</td>\n",
       "      <td>7200.0</td>\n",
       "      <td>intermediate</td>\n",
       "      <td>281.271</td>\n",
       "      <td>1.89262</td>\n",
       "      <td>0.0</td>\n",
       "      <td>5.0</td>\n",
       "    </tr>\n",
       "    <tr>\n",
       "      <th>1</th>\n",
       "      <td>CHEMBL188487</td>\n",
       "      <td>O=C1C(=O)N(Cc2ccc(F)cc2Cl)c2ccc(I)cc21</td>\n",
       "      <td>9400.0</td>\n",
       "      <td>intermediate</td>\n",
       "      <td>415.589</td>\n",
       "      <td>3.81320</td>\n",
       "      <td>0.0</td>\n",
       "      <td>2.0</td>\n",
       "    </tr>\n",
       "    <tr>\n",
       "      <th>2</th>\n",
       "      <td>CHEMBL185698</td>\n",
       "      <td>O=C1C(=O)N(CC2COc3ccccc3O2)c2ccc(I)cc21</td>\n",
       "      <td>13500.0</td>\n",
       "      <td>inactive</td>\n",
       "      <td>421.190</td>\n",
       "      <td>2.66050</td>\n",
       "      <td>0.0</td>\n",
       "      <td>4.0</td>\n",
       "    </tr>\n",
       "    <tr>\n",
       "      <th>3</th>\n",
       "      <td>CHEMBL426082</td>\n",
       "      <td>O=C1C(=O)N(Cc2cc3ccccc3s2)c2ccccc21</td>\n",
       "      <td>13110.0</td>\n",
       "      <td>inactive</td>\n",
       "      <td>293.347</td>\n",
       "      <td>3.63080</td>\n",
       "      <td>0.0</td>\n",
       "      <td>3.0</td>\n",
       "    </tr>\n",
       "    <tr>\n",
       "      <th>4</th>\n",
       "      <td>CHEMBL187717</td>\n",
       "      <td>O=C1C(=O)N(Cc2cc3ccccc3s2)c2c1cccc2[N+](=O)[O-]</td>\n",
       "      <td>2000.0</td>\n",
       "      <td>intermediate</td>\n",
       "      <td>338.344</td>\n",
       "      <td>3.53900</td>\n",
       "      <td>0.0</td>\n",
       "      <td>5.0</td>\n",
       "    </tr>\n",
       "    <tr>\n",
       "      <th>...</th>\n",
       "      <td>...</td>\n",
       "      <td>...</td>\n",
       "      <td>...</td>\n",
       "      <td>...</td>\n",
       "      <td>...</td>\n",
       "      <td>...</td>\n",
       "      <td>...</td>\n",
       "      <td>...</td>\n",
       "    </tr>\n",
       "    <tr>\n",
       "      <th>128</th>\n",
       "      <td>CHEMBL2146517</td>\n",
       "      <td>COC(=O)[C@@]1(C)CCCc2c1ccc1c2C(=O)C(=O)c2c(C)c...</td>\n",
       "      <td>10600.0</td>\n",
       "      <td>inactive</td>\n",
       "      <td>338.359</td>\n",
       "      <td>3.40102</td>\n",
       "      <td>0.0</td>\n",
       "      <td>5.0</td>\n",
       "    </tr>\n",
       "    <tr>\n",
       "      <th>129</th>\n",
       "      <td>CHEMBL187460</td>\n",
       "      <td>C[C@H]1COC2=C1C(=O)C(=O)c1c2ccc2c1CCCC2(C)C</td>\n",
       "      <td>10100.0</td>\n",
       "      <td>inactive</td>\n",
       "      <td>296.366</td>\n",
       "      <td>3.44330</td>\n",
       "      <td>0.0</td>\n",
       "      <td>3.0</td>\n",
       "    </tr>\n",
       "    <tr>\n",
       "      <th>130</th>\n",
       "      <td>CHEMBL363535</td>\n",
       "      <td>Cc1coc2c1C(=O)C(=O)c1c-2ccc2c(C)cccc12</td>\n",
       "      <td>11500.0</td>\n",
       "      <td>inactive</td>\n",
       "      <td>276.291</td>\n",
       "      <td>4.09564</td>\n",
       "      <td>0.0</td>\n",
       "      <td>3.0</td>\n",
       "    </tr>\n",
       "    <tr>\n",
       "      <th>131</th>\n",
       "      <td>CHEMBL227075</td>\n",
       "      <td>Cc1cccc2c3c(ccc12)C1=C(C(=O)C3=O)[C@@H](C)CO1</td>\n",
       "      <td>10700.0</td>\n",
       "      <td>inactive</td>\n",
       "      <td>278.307</td>\n",
       "      <td>3.29102</td>\n",
       "      <td>0.0</td>\n",
       "      <td>3.0</td>\n",
       "    </tr>\n",
       "    <tr>\n",
       "      <th>132</th>\n",
       "      <td>CHEMBL45830</td>\n",
       "      <td>CC(C)C1=Cc2ccc3c(c2C(=O)C1=O)CCCC3(C)C</td>\n",
       "      <td>78900.0</td>\n",
       "      <td>inactive</td>\n",
       "      <td>282.383</td>\n",
       "      <td>4.10530</td>\n",
       "      <td>0.0</td>\n",
       "      <td>2.0</td>\n",
       "    </tr>\n",
       "  </tbody>\n",
       "</table>\n",
       "<p>133 rows × 8 columns</p>\n",
       "</div>"
      ],
      "text/plain": [
       "    molecule_chembl_id                                   canonical_smiles  \\\n",
       "0         CHEMBL187579             Cc1noc(C)c1CN1C(=O)C(=O)c2cc(C#N)ccc21   \n",
       "1         CHEMBL188487             O=C1C(=O)N(Cc2ccc(F)cc2Cl)c2ccc(I)cc21   \n",
       "2         CHEMBL185698            O=C1C(=O)N(CC2COc3ccccc3O2)c2ccc(I)cc21   \n",
       "3         CHEMBL426082                O=C1C(=O)N(Cc2cc3ccccc3s2)c2ccccc21   \n",
       "4         CHEMBL187717    O=C1C(=O)N(Cc2cc3ccccc3s2)c2c1cccc2[N+](=O)[O-]   \n",
       "..                 ...                                                ...   \n",
       "128      CHEMBL2146517  COC(=O)[C@@]1(C)CCCc2c1ccc1c2C(=O)C(=O)c2c(C)c...   \n",
       "129       CHEMBL187460        C[C@H]1COC2=C1C(=O)C(=O)c1c2ccc2c1CCCC2(C)C   \n",
       "130       CHEMBL363535             Cc1coc2c1C(=O)C(=O)c1c-2ccc2c(C)cccc12   \n",
       "131       CHEMBL227075      Cc1cccc2c3c(ccc12)C1=C(C(=O)C3=O)[C@@H](C)CO1   \n",
       "132        CHEMBL45830             CC(C)C1=Cc2ccc3c(c2C(=O)C1=O)CCCC3(C)C   \n",
       "\n",
       "     standard_value bioactivity_class       MW     LogP  NumHDonors  \\\n",
       "0            7200.0      intermediate  281.271  1.89262         0.0   \n",
       "1            9400.0      intermediate  415.589  3.81320         0.0   \n",
       "2           13500.0          inactive  421.190  2.66050         0.0   \n",
       "3           13110.0          inactive  293.347  3.63080         0.0   \n",
       "4            2000.0      intermediate  338.344  3.53900         0.0   \n",
       "..              ...               ...      ...      ...         ...   \n",
       "128         10600.0          inactive  338.359  3.40102         0.0   \n",
       "129         10100.0          inactive  296.366  3.44330         0.0   \n",
       "130         11500.0          inactive  276.291  4.09564         0.0   \n",
       "131         10700.0          inactive  278.307  3.29102         0.0   \n",
       "132         78900.0          inactive  282.383  4.10530         0.0   \n",
       "\n",
       "     NumHAcceptors  \n",
       "0              5.0  \n",
       "1              2.0  \n",
       "2              4.0  \n",
       "3              3.0  \n",
       "4              5.0  \n",
       "..             ...  \n",
       "128            5.0  \n",
       "129            3.0  \n",
       "130            3.0  \n",
       "131            3.0  \n",
       "132            2.0  \n",
       "\n",
       "[133 rows x 8 columns]"
      ]
     },
     "execution_count": 23,
     "metadata": {},
     "output_type": "execute_result"
    }
   ],
   "source": [
    "df_combined"
   ]
  },
  {
   "cell_type": "markdown",
   "id": "786af233",
   "metadata": {},
   "source": [
    "### Converting IC50 to pIC50"
   ]
  },
  {
   "cell_type": "markdown",
   "id": "7377e847",
   "metadata": {},
   "source": [
    "- `pIC50 = -log10(IC50)`\n",
    "- IC50 is not uniformly distributed."
   ]
  },
  {
   "cell_type": "code",
   "execution_count": 24,
   "id": "9c8df730",
   "metadata": {},
   "outputs": [
    {
     "data": {
      "image/png": "[encoded data removed]",
      "text/plain": [
       "<Figure size 432x288 with 1 Axes>"
      ]
     },
     "metadata": {
      "needs_background": "light"
     },
     "output_type": "display_data"
    }
   ],
   "source": [
    "plt.hist(df_combined['standard_value'], bins = 30);"
   ]
  },
  {
   "cell_type": "code",
   "execution_count": 25,
   "id": "7885bebe",
   "metadata": {},
   "outputs": [
    {
     "data": {
      "text/plain": [
       "count    1.330000e+02\n",
       "mean     8.017926e+12\n",
       "std      3.344888e+13\n",
       "min      5.000000e+01\n",
       "25%      1.070000e+04\n",
       "50%      2.350000e+04\n",
       "75%      3.000000e+05\n",
       "max      3.311311e+14\n",
       "Name: standard_value, dtype: float64"
      ]
     },
     "execution_count": 25,
     "metadata": {},
     "output_type": "execute_result"
    }
   ],
   "source": [
    "df_combined['standard_value'].describe()"
   ]
  },
  {
   "cell_type": "markdown",
   "id": "2fee92a0",
   "metadata": {},
   "source": [
    "- We need to cap the values of `standard_value` column at 100000000."
   ]
  },
  {
   "cell_type": "code",
   "execution_count": 26,
   "id": "9a9cf440",
   "metadata": {},
   "outputs": [],
   "source": [
    "def norm_value(input_df):\n",
    "    norm = []\n",
    "    for i in input_df['standard_value']:\n",
    "        if i > 100000000:\n",
    "            i = 100000000\n",
    "        norm.append(i)\n",
    "    input_df['standard_value_norm'] = norm\n",
    "    x = input_df.drop('standard_value', axis = 1)\n",
    "    return x"
   ]
  },
  {
   "cell_type": "code",
   "execution_count": 27,
   "id": "78efb8f8",
   "metadata": {},
   "outputs": [],
   "source": [
    "df_norm = norm_value(df_combined)"
   ]
  },
  {
   "cell_type": "code",
   "execution_count": 28,
   "id": "b7aa6115",
   "metadata": {},
   "outputs": [
    {
     "data": {
      "text/plain": [
       "count    1.330000e+02\n",
       "mean     2.110164e+07\n",
       "std      4.089714e+07\n",
       "min      5.000000e+01\n",
       "25%      1.070000e+04\n",
       "50%      2.350000e+04\n",
       "75%      3.000000e+05\n",
       "max      1.000000e+08\n",
       "Name: standard_value_norm, dtype: float64"
      ]
     },
     "execution_count": 28,
     "metadata": {},
     "output_type": "execute_result"
    }
   ],
   "source": [
    "df_norm['standard_value_norm'].describe()"
   ]
  },
  {
   "cell_type": "code",
   "execution_count": 29,
   "id": "5aca32e8",
   "metadata": {},
   "outputs": [],
   "source": [
    "def pIC50(input_df):\n",
    "    pIC50 = []\n",
    "    for i in input_df['standard_value_norm']:\n",
    "        molar = i * (10**-9) #converts nM to M\n",
    "        pIC50.append(-np.log10(molar))\n",
    "    input_df['pIC50'] = pIC50\n",
    "    x = input_df.drop('standard_value_norm', axis = 1)\n",
    "    return x"
   ]
  },
  {
   "cell_type": "code",
   "execution_count": 30,
   "id": "6be216a7",
   "metadata": {},
   "outputs": [],
   "source": [
    "df_final = pIC50(df_norm)"
   ]
  },
  {
   "cell_type": "code",
   "execution_count": 31,
   "id": "c3c8c0d4",
   "metadata": {},
   "outputs": [
    {
     "data": {
      "text/plain": [
       "count    133.000000\n",
       "mean       4.060148\n",
       "std        1.783762\n",
       "min        1.000000\n",
       "25%        3.522879\n",
       "50%        4.628932\n",
       "75%        4.970616\n",
       "max        7.301030\n",
       "Name: pIC50, dtype: float64"
      ]
     },
     "execution_count": 31,
     "metadata": {},
     "output_type": "execute_result"
    }
   ],
   "source": [
    "df_final['pIC50'].describe()"
   ]
  },
  {
   "cell_type": "code",
   "execution_count": 32,
   "id": "138da30f",
   "metadata": {},
   "outputs": [
    {
     "data": {
      "image/png": "[encoded data removed]",
      "text/plain": [
       "<Figure size 432x288 with 1 Axes>"
      ]
     },
     "metadata": {
      "needs_background": "light"
     },
     "output_type": "display_data"
    }
   ],
   "source": [
    "plt.hist(df_final['pIC50'], bins = 30);"
   ]
  },
  {
   "cell_type": "markdown",
   "id": "0b2074cc",
   "metadata": {},
   "source": [
    "- Now the pIC50 values are more uniformly distributed."
   ]
  },
  {
   "cell_type": "markdown",
   "id": "b10ec6f9",
   "metadata": {},
   "source": [
    "### Remove the \"intermediate\" Bioactivity Class"
   ]
  },
  {
   "cell_type": "code",
   "execution_count": 39,
   "id": "f90d5df8",
   "metadata": {},
   "outputs": [],
   "source": [
    "df_2class = df_final[df_final['bioactivity_class'] != 'intermediate']"
   ]
  },
  {
   "cell_type": "code",
   "execution_count": 44,
   "id": "e37c24b5",
   "metadata": {},
   "outputs": [
    {
     "data": {
      "text/html": [
       "<div>\n",
       "<style scoped>\n",
       "    .dataframe tbody tr th:only-of-type {\n",
       "        vertical-align: middle;\n",
       "    }\n",
       "\n",
       "    .dataframe tbody tr th {\n",
       "        vertical-align: top;\n",
       "    }\n",
       "\n",
       "    .dataframe thead th {\n",
       "        text-align: right;\n",
       "    }\n",
       "</style>\n",
       "<table border=\"1\" class=\"dataframe\">\n",
       "  <thead>\n",
       "    <tr style=\"text-align: right;\">\n",
       "      <th></th>\n",
       "      <th>molecule_chembl_id</th>\n",
       "      <th>canonical_smiles</th>\n",
       "      <th>bioactivity_class</th>\n",
       "      <th>MW</th>\n",
       "      <th>LogP</th>\n",
       "      <th>NumHDonors</th>\n",
       "      <th>NumHAcceptors</th>\n",
       "      <th>pIC50</th>\n",
       "    </tr>\n",
       "  </thead>\n",
       "  <tbody>\n",
       "    <tr>\n",
       "      <th>2</th>\n",
       "      <td>CHEMBL185698</td>\n",
       "      <td>O=C1C(=O)N(CC2COc3ccccc3O2)c2ccc(I)cc21</td>\n",
       "      <td>inactive</td>\n",
       "      <td>421.190</td>\n",
       "      <td>2.66050</td>\n",
       "      <td>0.0</td>\n",
       "      <td>4.0</td>\n",
       "      <td>4.869666</td>\n",
       "    </tr>\n",
       "    <tr>\n",
       "      <th>3</th>\n",
       "      <td>CHEMBL426082</td>\n",
       "      <td>O=C1C(=O)N(Cc2cc3ccccc3s2)c2ccccc21</td>\n",
       "      <td>inactive</td>\n",
       "      <td>293.347</td>\n",
       "      <td>3.63080</td>\n",
       "      <td>0.0</td>\n",
       "      <td>3.0</td>\n",
       "      <td>4.882397</td>\n",
       "    </tr>\n",
       "    <tr>\n",
       "      <th>5</th>\n",
       "      <td>CHEMBL365134</td>\n",
       "      <td>O=C1C(=O)N(Cc2cc3ccccc3s2)c2c(Br)cccc21</td>\n",
       "      <td>active</td>\n",
       "      <td>372.243</td>\n",
       "      <td>4.39330</td>\n",
       "      <td>0.0</td>\n",
       "      <td>3.0</td>\n",
       "      <td>6.008774</td>\n",
       "    </tr>\n",
       "    <tr>\n",
       "      <th>7</th>\n",
       "      <td>CHEMBL190743</td>\n",
       "      <td>O=C1C(=O)N(Cc2cc3ccccc3s2)c2ccc(I)cc21</td>\n",
       "      <td>active</td>\n",
       "      <td>419.243</td>\n",
       "      <td>4.23540</td>\n",
       "      <td>0.0</td>\n",
       "      <td>3.0</td>\n",
       "      <td>6.022276</td>\n",
       "    </tr>\n",
       "    <tr>\n",
       "      <th>8</th>\n",
       "      <td>CHEMBL365469</td>\n",
       "      <td>O=C1C(=O)N(Cc2cc3ccccc3s2)c2cccc(Cl)c21</td>\n",
       "      <td>inactive</td>\n",
       "      <td>327.792</td>\n",
       "      <td>4.28420</td>\n",
       "      <td>0.0</td>\n",
       "      <td>3.0</td>\n",
       "      <td>4.950782</td>\n",
       "    </tr>\n",
       "    <tr>\n",
       "      <th>...</th>\n",
       "      <td>...</td>\n",
       "      <td>...</td>\n",
       "      <td>...</td>\n",
       "      <td>...</td>\n",
       "      <td>...</td>\n",
       "      <td>...</td>\n",
       "      <td>...</td>\n",
       "      <td>...</td>\n",
       "    </tr>\n",
       "    <tr>\n",
       "      <th>128</th>\n",
       "      <td>CHEMBL2146517</td>\n",
       "      <td>COC(=O)[C@@]1(C)CCCc2c1ccc1c2C(=O)C(=O)c2c(C)c...</td>\n",
       "      <td>inactive</td>\n",
       "      <td>338.359</td>\n",
       "      <td>3.40102</td>\n",
       "      <td>0.0</td>\n",
       "      <td>5.0</td>\n",
       "      <td>4.974694</td>\n",
       "    </tr>\n",
       "    <tr>\n",
       "      <th>129</th>\n",
       "      <td>CHEMBL187460</td>\n",
       "      <td>C[C@H]1COC2=C1C(=O)C(=O)c1c2ccc2c1CCCC2(C)C</td>\n",
       "      <td>inactive</td>\n",
       "      <td>296.366</td>\n",
       "      <td>3.44330</td>\n",
       "      <td>0.0</td>\n",
       "      <td>3.0</td>\n",
       "      <td>4.995679</td>\n",
       "    </tr>\n",
       "    <tr>\n",
       "      <th>130</th>\n",
       "      <td>CHEMBL363535</td>\n",
       "      <td>Cc1coc2c1C(=O)C(=O)c1c-2ccc2c(C)cccc12</td>\n",
       "      <td>inactive</td>\n",
       "      <td>276.291</td>\n",
       "      <td>4.09564</td>\n",
       "      <td>0.0</td>\n",
       "      <td>3.0</td>\n",
       "      <td>4.939302</td>\n",
       "    </tr>\n",
       "    <tr>\n",
       "      <th>131</th>\n",
       "      <td>CHEMBL227075</td>\n",
       "      <td>Cc1cccc2c3c(ccc12)C1=C(C(=O)C3=O)[C@@H](C)CO1</td>\n",
       "      <td>inactive</td>\n",
       "      <td>278.307</td>\n",
       "      <td>3.29102</td>\n",
       "      <td>0.0</td>\n",
       "      <td>3.0</td>\n",
       "      <td>4.970616</td>\n",
       "    </tr>\n",
       "    <tr>\n",
       "      <th>132</th>\n",
       "      <td>CHEMBL45830</td>\n",
       "      <td>CC(C)C1=Cc2ccc3c(c2C(=O)C1=O)CCCC3(C)C</td>\n",
       "      <td>inactive</td>\n",
       "      <td>282.383</td>\n",
       "      <td>4.10530</td>\n",
       "      <td>0.0</td>\n",
       "      <td>2.0</td>\n",
       "      <td>4.102923</td>\n",
       "    </tr>\n",
       "  </tbody>\n",
       "</table>\n",
       "<p>119 rows × 8 columns</p>\n",
       "</div>"
      ],
      "text/plain": [
       "    molecule_chembl_id                                   canonical_smiles  \\\n",
       "2         CHEMBL185698            O=C1C(=O)N(CC2COc3ccccc3O2)c2ccc(I)cc21   \n",
       "3         CHEMBL426082                O=C1C(=O)N(Cc2cc3ccccc3s2)c2ccccc21   \n",
       "5         CHEMBL365134            O=C1C(=O)N(Cc2cc3ccccc3s2)c2c(Br)cccc21   \n",
       "7         CHEMBL190743             O=C1C(=O)N(Cc2cc3ccccc3s2)c2ccc(I)cc21   \n",
       "8         CHEMBL365469            O=C1C(=O)N(Cc2cc3ccccc3s2)c2cccc(Cl)c21   \n",
       "..                 ...                                                ...   \n",
       "128      CHEMBL2146517  COC(=O)[C@@]1(C)CCCc2c1ccc1c2C(=O)C(=O)c2c(C)c...   \n",
       "129       CHEMBL187460        C[C@H]1COC2=C1C(=O)C(=O)c1c2ccc2c1CCCC2(C)C   \n",
       "130       CHEMBL363535             Cc1coc2c1C(=O)C(=O)c1c-2ccc2c(C)cccc12   \n",
       "131       CHEMBL227075      Cc1cccc2c3c(ccc12)C1=C(C(=O)C3=O)[C@@H](C)CO1   \n",
       "132        CHEMBL45830             CC(C)C1=Cc2ccc3c(c2C(=O)C1=O)CCCC3(C)C   \n",
       "\n",
       "    bioactivity_class       MW     LogP  NumHDonors  NumHAcceptors     pIC50  \n",
       "2            inactive  421.190  2.66050         0.0            4.0  4.869666  \n",
       "3            inactive  293.347  3.63080         0.0            3.0  4.882397  \n",
       "5              active  372.243  4.39330         0.0            3.0  6.008774  \n",
       "7              active  419.243  4.23540         0.0            3.0  6.022276  \n",
       "8            inactive  327.792  4.28420         0.0            3.0  4.950782  \n",
       "..                ...      ...      ...         ...            ...       ...  \n",
       "128          inactive  338.359  3.40102         0.0            5.0  4.974694  \n",
       "129          inactive  296.366  3.44330         0.0            3.0  4.995679  \n",
       "130          inactive  276.291  4.09564         0.0            3.0  4.939302  \n",
       "131          inactive  278.307  3.29102         0.0            3.0  4.970616  \n",
       "132          inactive  282.383  4.10530         0.0            2.0  4.102923  \n",
       "\n",
       "[119 rows x 8 columns]"
      ]
     },
     "execution_count": 44,
     "metadata": {},
     "output_type": "execute_result"
    }
   ],
   "source": [
    "df_2class"
   ]
  },
  {
   "cell_type": "markdown",
   "id": "e9a9dcea",
   "metadata": {},
   "source": [
    "## Exploratory Data Analysis (Chemical Space Analysis)"
   ]
  },
  {
   "cell_type": "markdown",
   "id": "0b911c40",
   "metadata": {},
   "source": [
    "### Frequency Plot of the Two Bioactivity Classes"
   ]
  },
  {
   "cell_type": "code",
   "execution_count": 55,
   "id": "dd1832a7",
   "metadata": {
    "scrolled": true
   },
   "outputs": [
    {
     "data": {
      "image/png": "[encoded data removed]",
      "text/plain": [
       "<Figure size 432x360 with 1 Axes>"
      ]
     },
     "metadata": {
      "needs_background": "light"
     },
     "output_type": "display_data"
    }
   ],
   "source": [
    "plt.figure(figsize = (6,5))\n",
    "sb.countplot(data = df_2class, x = 'bioactivity_class', edgecolor = 'black')\n",
    "plt.xlabel('Bioactivity Class', fontsize = 16)\n",
    "plt.ylabel('Frequency', fontsize = 16);"
   ]
  },
  {
   "cell_type": "markdown",
   "id": "bbdc5e7e",
   "metadata": {},
   "source": [
    "### Scatter Plot of MW vs LogP"
   ]
  },
  {
   "cell_type": "code",
   "execution_count": 75,
   "id": "1343cc9b",
   "metadata": {},
   "outputs": [
    {
     "data": {
      "image/png": "[encoded data removed]",
      "text/plain": [
       "<Figure size 432x360 with 1 Axes>"
      ]
     },
     "metadata": {
      "needs_background": "light"
     },
     "output_type": "display_data"
    }
   ],
   "source": [
    "plt.figure(figsize = (6,5))\n",
    "sb.scatterplot(data = df_2class, x = 'MW', y = 'LogP', hue = 'bioactivity_class', size = 'pIC50',\n",
    "               edgecolor = 'black', alpha = 0.7)\n",
    "plt.legend(bbox_to_anchor = (1,1),loc = 2)\n",
    "plt.xlabel('MW', fontsize = 16)\n",
    "plt.ylabel('LogP', fontsize = 16);"
   ]
  },
  {
   "cell_type": "code",
   "execution_count": 100,
   "id": "21379855",
   "metadata": {},
   "outputs": [],
   "source": [
    "def mannwhitney(descriptor, verbose=False):\n",
    "    '''\n",
    "        This function determines whether the difference\n",
    "        between the active and the inactive molecules is\n",
    "        statistically significant with respect to each of\n",
    "        the Lipinski's descriptors\n",
    "    '''\n",
    "    from numpy.random import seed\n",
    "    from numpy.random import randn\n",
    "    from scipy.stats import mannwhitneyu\n",
    "\n",
    "    # seed the random number generator\n",
    "    seed(1)\n",
    "\n",
    "    # actives and inactives\n",
    "    selection = [descriptor, 'bioactivity_class']\n",
    "    df = df_2class[selection]\n",
    "    \n",
    "    active = df[df.bioactivity_class == 'active']\n",
    "    active = active[descriptor]\n",
    "\n",
    "    inactive = df[df.bioactivity_class == 'inactive']\n",
    "    inactive = inactive[descriptor]\n",
    "\n",
    "    # compare samples\n",
    "    stat, p = mannwhitneyu(active, inactive)\n",
    "    #print('Statistics=%.3f, p=%.3f' % (stat, p))\n",
    "\n",
    "    # interpret\n",
    "    alpha = 0.05\n",
    "    if p > alpha:\n",
    "        interpretation = 'Same distribution (fail to reject H0)'\n",
    "    else:\n",
    "        interpretation = 'Different distribution (reject H0)'\n",
    "\n",
    "    results = pd.DataFrame({'Descriptor':descriptor,\n",
    "                              'Statistics':stat,\n",
    "                              'p':p,\n",
    "                              'alpha':alpha,\n",
    "                              'Interpretation':interpretation}, index=[0])\n",
    "    filename = 'mannwhitneyu_' + descriptor + '.csv'\n",
    "    results.to_csv(filename)\n",
    "\n",
    "    return results"
   ]
  },
  {
   "cell_type": "markdown",
   "id": "0c2e5ee9",
   "metadata": {},
   "source": [
    "### Box Plots"
   ]
  },
  {
   "cell_type": "markdown",
   "id": "bb994bbd",
   "metadata": {},
   "source": [
    "#### pIC50"
   ]
  },
  {
   "cell_type": "code",
   "execution_count": 77,
   "id": "af76b910",
   "metadata": {},
   "outputs": [
    {
     "data": {
      "image/png": "[encoded data removed]",
      "text/plain": [
       "<Figure size 432x360 with 1 Axes>"
      ]
     },
     "metadata": {
      "needs_background": "light"
     },
     "output_type": "display_data"
    }
   ],
   "source": [
    "plt.figure(figsize = (6,5))\n",
    "sb.boxplot(data = df_2class, x = 'bioactivity_class', y = 'pIC50')\n",
    "plt.xlabel('bioactivity_class', fontsize = 16)\n",
    "plt.ylabel('pIC50', fontsize = 16);"
   ]
  },
  {
   "cell_type": "markdown",
   "id": "f68286e0",
   "metadata": {},
   "source": [
    "- Molecules with pIC50 values of 6 or more will be active, while those with pIC50 values of less than 6 will be inactive.\n",
    "- The distribution of the inactive compounds is wider than that of the active molecules."
   ]
  },
  {
   "cell_type": "code",
   "execution_count": 101,
   "id": "18f01deb",
   "metadata": {},
   "outputs": [
    {
     "data": {
      "text/html": [
       "<div>\n",
       "<style scoped>\n",
       "    .dataframe tbody tr th:only-of-type {\n",
       "        vertical-align: middle;\n",
       "    }\n",
       "\n",
       "    .dataframe tbody tr th {\n",
       "        vertical-align: top;\n",
       "    }\n",
       "\n",
       "    .dataframe thead th {\n",
       "        text-align: right;\n",
       "    }\n",
       "</style>\n",
       "<table border=\"1\" class=\"dataframe\">\n",
       "  <thead>\n",
       "    <tr style=\"text-align: right;\">\n",
       "      <th></th>\n",
       "      <th>Descriptor</th>\n",
       "      <th>Statistics</th>\n",
       "      <th>p</th>\n",
       "      <th>alpha</th>\n",
       "      <th>Interpretation</th>\n",
       "    </tr>\n",
       "  </thead>\n",
       "  <tbody>\n",
       "    <tr>\n",
       "      <th>0</th>\n",
       "      <td>pIC50</td>\n",
       "      <td>1560.0</td>\n",
       "      <td>3.325272e-10</td>\n",
       "      <td>0.05</td>\n",
       "      <td>Different distribution (reject H0)</td>\n",
       "    </tr>\n",
       "  </tbody>\n",
       "</table>\n",
       "</div>"
      ],
      "text/plain": [
       "  Descriptor  Statistics             p  alpha  \\\n",
       "0      pIC50      1560.0  3.325272e-10   0.05   \n",
       "\n",
       "                       Interpretation  \n",
       "0  Different distribution (reject H0)  "
      ]
     },
     "execution_count": 101,
     "metadata": {},
     "output_type": "execute_result"
    }
   ],
   "source": [
    "mannwhitney('pIC50')"
   ]
  },
  {
   "cell_type": "markdown",
   "id": "d5725f3c",
   "metadata": {},
   "source": [
    "#### MW"
   ]
  },
  {
   "cell_type": "code",
   "execution_count": 102,
   "id": "689d775f",
   "metadata": {},
   "outputs": [
    {
     "data": {
      "image/png": "[encoded data removed]",
      "text/plain": [
       "<Figure size 432x360 with 1 Axes>"
      ]
     },
     "metadata": {
      "needs_background": "light"
     },
     "output_type": "display_data"
    }
   ],
   "source": [
    "plt.figure(figsize = (6,5))\n",
    "sb.boxplot(data = df_2class, x = 'bioactivity_class', y = 'MW')\n",
    "plt.xlabel('bioactivity_class', fontsize = 16)\n",
    "plt.ylabel('MW', fontsize = 16);"
   ]
  },
  {
   "cell_type": "code",
   "execution_count": 103,
   "id": "b3af640d",
   "metadata": {},
   "outputs": [
    {
     "data": {
      "text/html": [
       "<div>\n",
       "<style scoped>\n",
       "    .dataframe tbody tr th:only-of-type {\n",
       "        vertical-align: middle;\n",
       "    }\n",
       "\n",
       "    .dataframe tbody tr th {\n",
       "        vertical-align: top;\n",
       "    }\n",
       "\n",
       "    .dataframe thead th {\n",
       "        text-align: right;\n",
       "    }\n",
       "</style>\n",
       "<table border=\"1\" class=\"dataframe\">\n",
       "  <thead>\n",
       "    <tr style=\"text-align: right;\">\n",
       "      <th></th>\n",
       "      <th>Descriptor</th>\n",
       "      <th>Statistics</th>\n",
       "      <th>p</th>\n",
       "      <th>alpha</th>\n",
       "      <th>Interpretation</th>\n",
       "    </tr>\n",
       "  </thead>\n",
       "  <tbody>\n",
       "    <tr>\n",
       "      <th>0</th>\n",
       "      <td>MW</td>\n",
       "      <td>409.5</td>\n",
       "      <td>0.003049</td>\n",
       "      <td>0.05</td>\n",
       "      <td>Different distribution (reject H0)</td>\n",
       "    </tr>\n",
       "  </tbody>\n",
       "</table>\n",
       "</div>"
      ],
      "text/plain": [
       "  Descriptor  Statistics         p  alpha                      Interpretation\n",
       "0         MW       409.5  0.003049   0.05  Different distribution (reject H0)"
      ]
     },
     "execution_count": 103,
     "metadata": {},
     "output_type": "execute_result"
    }
   ],
   "source": [
    "mannwhitney('MW')"
   ]
  },
  {
   "cell_type": "markdown",
   "id": "f13ed018",
   "metadata": {},
   "source": [
    "#### LogP"
   ]
  },
  {
   "cell_type": "code",
   "execution_count": 104,
   "id": "24428fcb",
   "metadata": {},
   "outputs": [
    {
     "data": {
      "image/png": "[encoded data removed]",
      "text/plain": [
       "<Figure size 432x360 with 1 Axes>"
      ]
     },
     "metadata": {
      "needs_background": "light"
     },
     "output_type": "display_data"
    }
   ],
   "source": [
    "plt.figure(figsize = (6,5))\n",
    "sb.boxplot(data = df_2class, x = 'bioactivity_class', y = 'LogP')\n",
    "plt.xlabel('bioactivity_class', fontsize = 16)\n",
    "plt.ylabel('LogP', fontsize = 16);"
   ]
  },
  {
   "cell_type": "code",
   "execution_count": 105,
   "id": "ae3ccb62",
   "metadata": {},
   "outputs": [
    {
     "data": {
      "text/html": [
       "<div>\n",
       "<style scoped>\n",
       "    .dataframe tbody tr th:only-of-type {\n",
       "        vertical-align: middle;\n",
       "    }\n",
       "\n",
       "    .dataframe tbody tr th {\n",
       "        vertical-align: top;\n",
       "    }\n",
       "\n",
       "    .dataframe thead th {\n",
       "        text-align: right;\n",
       "    }\n",
       "</style>\n",
       "<table border=\"1\" class=\"dataframe\">\n",
       "  <thead>\n",
       "    <tr style=\"text-align: right;\">\n",
       "      <th></th>\n",
       "      <th>Descriptor</th>\n",
       "      <th>Statistics</th>\n",
       "      <th>p</th>\n",
       "      <th>alpha</th>\n",
       "      <th>Interpretation</th>\n",
       "    </tr>\n",
       "  </thead>\n",
       "  <tbody>\n",
       "    <tr>\n",
       "      <th>0</th>\n",
       "      <td>LogP</td>\n",
       "      <td>712.5</td>\n",
       "      <td>0.591609</td>\n",
       "      <td>0.05</td>\n",
       "      <td>Same distribution (fail to reject H0)</td>\n",
       "    </tr>\n",
       "  </tbody>\n",
       "</table>\n",
       "</div>"
      ],
      "text/plain": [
       "  Descriptor  Statistics         p  alpha  \\\n",
       "0       LogP       712.5  0.591609   0.05   \n",
       "\n",
       "                          Interpretation  \n",
       "0  Same distribution (fail to reject H0)  "
      ]
     },
     "execution_count": 105,
     "metadata": {},
     "output_type": "execute_result"
    }
   ],
   "source": [
    "mannwhitney('LogP')"
   ]
  },
  {
   "cell_type": "markdown",
   "id": "af3c6403",
   "metadata": {},
   "source": [
    "#### NumHDonors"
   ]
  },
  {
   "cell_type": "code",
   "execution_count": 107,
   "id": "60450b06",
   "metadata": {},
   "outputs": [
    {
     "data": {
      "image/png": "[encoded data removed]",
      "text/plain": [
       "<Figure size 432x360 with 1 Axes>"
      ]
     },
     "metadata": {
      "needs_background": "light"
     },
     "output_type": "display_data"
    }
   ],
   "source": [
    "plt.figure(figsize = (6,5))\n",
    "sb.boxplot(data = df_2class, x = 'bioactivity_class', y = 'NumHDonors')\n",
    "plt.xlabel('bioactivity_class', fontsize = 16)\n",
    "plt.ylabel('NumHDonors', fontsize = 16);"
   ]
  },
  {
   "cell_type": "code",
   "execution_count": 108,
   "id": "9c8c9c95",
   "metadata": {},
   "outputs": [
    {
     "data": {
      "text/html": [
       "<div>\n",
       "<style scoped>\n",
       "    .dataframe tbody tr th:only-of-type {\n",
       "        vertical-align: middle;\n",
       "    }\n",
       "\n",
       "    .dataframe tbody tr th {\n",
       "        vertical-align: top;\n",
       "    }\n",
       "\n",
       "    .dataframe thead th {\n",
       "        text-align: right;\n",
       "    }\n",
       "</style>\n",
       "<table border=\"1\" class=\"dataframe\">\n",
       "  <thead>\n",
       "    <tr style=\"text-align: right;\">\n",
       "      <th></th>\n",
       "      <th>Descriptor</th>\n",
       "      <th>Statistics</th>\n",
       "      <th>p</th>\n",
       "      <th>alpha</th>\n",
       "      <th>Interpretation</th>\n",
       "    </tr>\n",
       "  </thead>\n",
       "  <tbody>\n",
       "    <tr>\n",
       "      <th>0</th>\n",
       "      <td>NumHDonors</td>\n",
       "      <td>299.5</td>\n",
       "      <td>0.000049</td>\n",
       "      <td>0.05</td>\n",
       "      <td>Different distribution (reject H0)</td>\n",
       "    </tr>\n",
       "  </tbody>\n",
       "</table>\n",
       "</div>"
      ],
      "text/plain": [
       "   Descriptor  Statistics         p  alpha                      Interpretation\n",
       "0  NumHDonors       299.5  0.000049   0.05  Different distribution (reject H0)"
      ]
     },
     "execution_count": 108,
     "metadata": {},
     "output_type": "execute_result"
    }
   ],
   "source": [
    "mannwhitney('NumHDonors')"
   ]
  },
  {
   "cell_type": "markdown",
   "id": "cb0ae296",
   "metadata": {},
   "source": [
    "#### NumHAcceptors"
   ]
  },
  {
   "cell_type": "code",
   "execution_count": 109,
   "id": "253c603f",
   "metadata": {},
   "outputs": [
    {
     "data": {
      "image/png": "[encoded data removed]",
      "text/plain": [
       "<Figure size 432x360 with 1 Axes>"
      ]
     },
     "metadata": {
      "needs_background": "light"
     },
     "output_type": "display_data"
    }
   ],
   "source": [
    "plt.figure(figsize = (6,5))\n",
    "sb.boxplot(data = df_2class, x = 'bioactivity_class', y = 'NumHAcceptors')\n",
    "plt.xlabel('bioactivity_class', fontsize = 16)\n",
    "plt.ylabel('NumHAcceptors', fontsize = 16);"
   ]
  },
  {
   "cell_type": "code",
   "execution_count": 110,
   "id": "a21e8846",
   "metadata": {},
   "outputs": [
    {
     "data": {
      "text/html": [
       "<div>\n",
       "<style scoped>\n",
       "    .dataframe tbody tr th:only-of-type {\n",
       "        vertical-align: middle;\n",
       "    }\n",
       "\n",
       "    .dataframe tbody tr th {\n",
       "        vertical-align: top;\n",
       "    }\n",
       "\n",
       "    .dataframe thead th {\n",
       "        text-align: right;\n",
       "    }\n",
       "</style>\n",
       "<table border=\"1\" class=\"dataframe\">\n",
       "  <thead>\n",
       "    <tr style=\"text-align: right;\">\n",
       "      <th></th>\n",
       "      <th>Descriptor</th>\n",
       "      <th>Statistics</th>\n",
       "      <th>p</th>\n",
       "      <th>alpha</th>\n",
       "      <th>Interpretation</th>\n",
       "    </tr>\n",
       "  </thead>\n",
       "  <tbody>\n",
       "    <tr>\n",
       "      <th>0</th>\n",
       "      <td>NumHAcceptors</td>\n",
       "      <td>415.0</td>\n",
       "      <td>0.003115</td>\n",
       "      <td>0.05</td>\n",
       "      <td>Different distribution (reject H0)</td>\n",
       "    </tr>\n",
       "  </tbody>\n",
       "</table>\n",
       "</div>"
      ],
      "text/plain": [
       "      Descriptor  Statistics         p  alpha  \\\n",
       "0  NumHAcceptors       415.0  0.003115   0.05   \n",
       "\n",
       "                       Interpretation  \n",
       "0  Different distribution (reject H0)  "
      ]
     },
     "execution_count": 110,
     "metadata": {},
     "output_type": "execute_result"
    }
   ],
   "source": [
    "mannwhitney('NumHAcceptors')"
   ]
  },
  {
   "cell_type": "markdown",
   "id": "d890acb6",
   "metadata": {},
   "source": [
    "#### Analysis Interpretation"
   ]
  },
  {
   "cell_type": "markdown",
   "id": "94139253",
   "metadata": {},
   "source": [
    "##### pIC50 values\n",
    "Active and inactive molecules showed statistically significant difference with respect to the pIC50, which is to be expected since molecules with IC50 <= 1000 nM (pIC50 <= 6) are active, while molecules iwth IC50 > 10000 (pIC50 < 5) are inactive.\n",
    "\n",
    "##### Lipinski's descriptors\n",
    "Of the 4 Lipinski's descriptors (MW, LogP, NumHDonors and NumHAcceptors), only LogP exhibited no difference between the active and inactive molecules while the other 3 descriptors (MW, NumHDonors and NumHAcceptors) shows statistically significant difference between actives and inactives."
   ]
  },
  {
   "cell_type": "code",
   "execution_count": null,
   "id": "9d0ea025",
   "metadata": {},
   "outputs": [],
   "source": []
  }
 ],
 "metadata": {
  "kernelspec": {
   "display_name": "Python 3",
   "language": "python",
   "name": "python3"
  },
  "language_info": {
   "codemirror_mode": {
    "name": "ipython",
    "version": 3
   },
   "file_extension": ".py",
   "mimetype": "text/x-python",
   "name": "python",
   "nbconvert_exporter": "python",
   "pygments_lexer": "ipython3",
   "version": "3.9.5"
  }
 },
 "nbformat": 4,
 "nbformat_minor": 5
}
